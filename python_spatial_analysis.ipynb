{
  "nbformat": 4,
  "nbformat_minor": 0,
  "metadata": {
    "colab": {
      "provenance": []
    },
    "kernelspec": {
      "name": "python3",
      "display_name": "Python 3"
    },
    "language_info": {
      "name": "python"
    }
  },
  "cells": [
    {
      "cell_type": "markdown",
      "source": [
        "# Python Programming for Spatial Data Analysis\n",
        "\n",
        "Author: Zhan Zhao, PhD (zhanzhao@hku.hk)\n",
        "\n",
        "Date: 09/06/2023\n",
        "\n",
        "Prepared as part of the \"3D Modeling and Visualization\" executive course for Lands Department, HKSAR Government.\n",
        "\n",
        "In this tutorial, we will learn some basic functinalities of three specialized Python packages for spatial data analysis:\n",
        "\n",
        "\n",
        "*   **GeoPandas** for spatial data analysis\n",
        "*   **OSMnx** for street network analysis\n",
        "*   **Kepler.gl** for spatial data visualization\n",
        "\n",
        "\n",
        "## 0. Setup\n",
        "\n",
        "Install relevant Python packages: geopandas, osmnx, and keplergl."
      ],
      "metadata": {
        "id": "RT07pkWTIXan"
      }
    },
    {
      "cell_type": "code",
      "execution_count": null,
      "metadata": {
        "id": "emB8T1XqHlRx"
      },
      "outputs": [],
      "source": [
        "!pip install geopandas\n",
        "!pip install osmnx\n",
        "!pip install keplergl"
      ]
    },
    {
      "cell_type": "markdown",
      "source": [
        "Import relevant Python packages:"
      ],
      "metadata": {
        "id": "QIMFUOOpIuMP"
      }
    },
    {
      "cell_type": "code",
      "source": [
        "import pandas as pd\n",
        "from matplotlib import pyplot as plt\n",
        "import geopandas as gpd\n",
        "import osmnx as ox\n",
        "import keplergl"
      ],
      "metadata": {
        "id": "BvQZGRtWHof0"
      },
      "execution_count": null,
      "outputs": []
    },
    {
      "cell_type": "markdown",
      "source": [
        "In Google Colab, to read files from Google Drive, we need to first mount Google Drive so that Google Colab can access files in Google Drive."
      ],
      "metadata": {
        "id": "jAPr_1YHI_Eh"
      }
    },
    {
      "cell_type": "code",
      "source": [
        "from google.colab import drive\n",
        "drive.mount('/content/drive')"
      ],
      "metadata": {
        "id": "j_n7Rw9OQYSA"
      },
      "execution_count": null,
      "outputs": []
    },
    {
      "cell_type": "markdown",
      "source": [
        "## 1. Building Data Analysis using GeoPandas\n",
        "\n",
        "In this task, we will process building data in the Central and Western (CW) district in Hong Kong, using the **geopandas** package.\n",
        "\n",
        "### 1.1 Obtain CW district boundary\n",
        "\n",
        "First, we need to read the HK district boundary file, which can be downloaded in [Hong Kong GeoData Store](https://geodata.gov.hk/gs/datasets). We can use geopandas to read the geojson file into a GeoDataFrame."
      ],
      "metadata": {
        "id": "L6GwXFu4JTqu"
      }
    },
    {
      "cell_type": "code",
      "source": [
        "districts = gpd.read_file(\"/content/drive/MyDrive/Data/HK_Buildings/DCD.json\")\n",
        "districts.head()"
      ],
      "metadata": {
        "id": "1AUrLSC4bRjt"
      },
      "execution_count": null,
      "outputs": []
    },
    {
      "cell_type": "code",
      "source": [
        "districts.plot()"
      ],
      "metadata": {
        "id": "Gqg7zko8AKO6"
      },
      "execution_count": null,
      "outputs": []
    },
    {
      "cell_type": "markdown",
      "source": [
        "Then, we can filter the GeoDataFrame to get only the CW district."
      ],
      "metadata": {
        "id": "gGSIT8yzKnJ-"
      }
    },
    {
      "cell_type": "code",
      "source": [
        "cw = districts[districts['AREA_CODE'] == 'CW'].reset_index(drop=True)\n",
        "cw.head()"
      ],
      "metadata": {
        "id": "wem0Uu6Ib759"
      },
      "execution_count": null,
      "outputs": []
    },
    {
      "cell_type": "code",
      "source": [
        "ax = districts.plot()\n",
        "cw.plot(ax=ax, color='red')"
      ],
      "metadata": {
        "id": "QcmQsYrLA3Te"
      },
      "execution_count": null,
      "outputs": []
    },
    {
      "cell_type": "markdown",
      "source": [
        "### 1.2 Obtain Hong Kong building data\n",
        "\n",
        "Again, we can download the building structure data from [Hong Kong GeoData Store](https://geodata.gov.hk/gs/datasets), and import the file in a similar way as Step 1.1. However, since there are many buildings in Hong Kong, the file size is big and this step can take a few minutes."
      ],
      "metadata": {
        "id": "X4LEAG5TLE0x"
      }
    },
    {
      "cell_type": "code",
      "source": [
        "buildings = gpd.read_file(\"/content/drive/MyDrive/Data/HK_Buildings/BUILDING_STRUCTURE.json\")\n",
        "buildings.head()"
      ],
      "metadata": {
        "id": "GtL2S4QVQirs"
      },
      "execution_count": null,
      "outputs": []
    },
    {
      "cell_type": "code",
      "source": [
        "buildings.shape"
      ],
      "metadata": {
        "id": "dBf7cITQSfqG"
      },
      "execution_count": null,
      "outputs": []
    },
    {
      "cell_type": "markdown",
      "source": [
        "### 1.3 Filter the buildings in CW\n",
        "\n",
        "To achieve this, we can use spatially join the HK buildings GeoDataFrame and the CW district GeoDataFrame. By default, the `sjoin` function in geopandas uses \"inner join\" based on the \"intersects\" option."
      ],
      "metadata": {
        "id": "je91GPNoLwns"
      }
    },
    {
      "cell_type": "code",
      "source": [
        "buildings_cw = gpd.sjoin(buildings, cw)\n",
        "buildings_cw = buildings_cw.drop(\n",
        "    columns=['index_right','OBJECTID_right', 'CSDI_ADMIN_AREA_ID', 'AREA_TYPE',\n",
        "             'AREA_ID', 'AREA_CODE', 'NAME_TC', 'NAME_EN', 'DATA_OWNER',\n",
        "             'BEGIN_LIFESPAN', 'END_LIFESPAN', 'SHAPE_Length_right', 'SHAPE_Area_right']\n",
        "    ).rename(columns={\"SHAPE_Length_left\": \"SHAPE_Length\", \"SHAPE_Area_left\": \"SHAPE_Area\"})\n",
        "buildings_cw.shape"
      ],
      "metadata": {
        "id": "3TxfCD5Tc2lU"
      },
      "execution_count": null,
      "outputs": []
    },
    {
      "cell_type": "code",
      "source": [
        "buildings_cw.head()"
      ],
      "metadata": {
        "id": "xlsWtf3MND66"
      },
      "execution_count": null,
      "outputs": []
    },
    {
      "cell_type": "markdown",
      "source": [
        "If the data needs to be reused, it is good practice to save the data. In this case, we can save the filtered building data in CW into a GeoJSON file."
      ],
      "metadata": {
        "id": "_oUrbiHrNZmX"
      }
    },
    {
      "cell_type": "code",
      "source": [
        "buildings_cw.to_file(\"/content/drive/MyDrive/Data/HK_Buildings/buildings_cw.json\", driver='GeoJSON')"
      ],
      "metadata": {
        "id": "-s4pIbxQM586"
      },
      "execution_count": null,
      "outputs": []
    },
    {
      "cell_type": "markdown",
      "source": [
        "### 1.4 Plot building data in CW\n",
        "\n",
        "We can read the saved \"buildings_cw.json\" file if it exists."
      ],
      "metadata": {
        "id": "Z0MuYyfDNq3d"
      }
    },
    {
      "cell_type": "code",
      "source": [
        "#buildings_cw = gpd.read_file(\"/content/drive/MyDrive/Data/HK_Buildings/buildings_cw.json\")"
      ],
      "metadata": {
        "id": "bRGZ1AWiOIYn"
      },
      "execution_count": null,
      "outputs": []
    },
    {
      "cell_type": "code",
      "source": [
        "buildings_cw.plot(figsize=(16, 8))"
      ],
      "metadata": {
        "id": "JTIfhah-N6Ua"
      },
      "execution_count": null,
      "outputs": []
    },
    {
      "cell_type": "markdown",
      "source": [
        "Now, let us plot the buildings based on their \"TOPHEIGHT\". Note that some buildings do not have a valid value for \"TOPHEIGHT\". Therefore, we need to first filter out these observations."
      ],
      "metadata": {
        "id": "Qmchw3MVOZ9m"
      }
    },
    {
      "cell_type": "code",
      "source": [
        "buildings_cw_with_height = buildings_cw[buildings_cw['TOPHEIGHT'].notnull()]\n",
        "buildings_cw_with_height.shape"
      ],
      "metadata": {
        "id": "WnmPqokJCK5w"
      },
      "execution_count": null,
      "outputs": []
    },
    {
      "cell_type": "markdown",
      "source": [
        "With the filtered data, we can color the building polygons based on their height."
      ],
      "metadata": {
        "id": "Rj0Cjkp5OrF2"
      }
    },
    {
      "cell_type": "code",
      "source": [
        "buildings_cw_with_height.plot(column='TOPHEIGHT', legend=True, figsize=(16, 8))"
      ],
      "metadata": {
        "id": "Z4CXOKlv-tm5"
      },
      "execution_count": null,
      "outputs": []
    },
    {
      "cell_type": "markdown",
      "source": [
        "## 2. Street Network Analysis using OSMnx\n",
        "\n",
        "In this task, we will perform some basic analysis on street network data for the CW district of Hong Kong. We will use **OSMnx** to obtain the street network data from [OpenStreetMap](https://www.openstreetmap.org/).\n",
        "\n",
        "### 2.1 Coordinated Reference Systems (CRS) conversion\n",
        "\n",
        "The geospatial data provided by the HK government in usually in **EPSG:2326**, which is a projected coordinate system suitable within the spatial boundary of HK. However, many internationally standard datasets (such as OpenStreetMap) uses **EPSG:4326** (or WGS 84). Therefore, to query street network data from OpenStreetMap, we need to first convert the CRS of the CW district boundary to WGS 84."
      ],
      "metadata": {
        "id": "cTh9OzuWPLSe"
      }
    },
    {
      "cell_type": "code",
      "source": [
        "cw.crs"
      ],
      "metadata": {
        "id": "Uxj03EcyENz7"
      },
      "execution_count": null,
      "outputs": []
    },
    {
      "cell_type": "code",
      "source": [
        "cw['geometry'][0]"
      ],
      "metadata": {
        "id": "fef6Nen-RKn7"
      },
      "execution_count": null,
      "outputs": []
    },
    {
      "cell_type": "code",
      "source": [
        "cw_WGS84 = cw.to_crs(\"epsg:4326\")\n",
        "cw_WGS84.crs"
      ],
      "metadata": {
        "id": "LeuiIUNlFBlR"
      },
      "execution_count": null,
      "outputs": []
    },
    {
      "cell_type": "code",
      "source": [
        "cw_WGS84['geometry'][0]"
      ],
      "metadata": {
        "id": "4lLaqH_ERVsj"
      },
      "execution_count": null,
      "outputs": []
    },
    {
      "cell_type": "markdown",
      "source": [
        "### 2.2 Download street network data from OpenStreetMap\n",
        "\n",
        "Once we define the CW district boundary in WGS84, we can use it to query the street network data from OpenStreetMap through OSMnx."
      ],
      "metadata": {
        "id": "yoFBVYmTRpi-"
      }
    },
    {
      "cell_type": "code",
      "source": [
        "cw_streets = ox.graph_from_polygon(cw_WGS84['geometry'][0])"
      ],
      "metadata": {
        "id": "Qj8Cq-MUDViv"
      },
      "execution_count": null,
      "outputs": []
    },
    {
      "cell_type": "code",
      "source": [
        "ox.plot_graph(cw_streets)"
      ],
      "metadata": {
        "id": "NHl9QwaUFYYW"
      },
      "execution_count": null,
      "outputs": []
    },
    {
      "cell_type": "markdown",
      "source": [
        "### 2.3 Basic analysis of the street network in CW\n",
        "\n",
        "Let us first show some summary statistics about the street network in CW."
      ],
      "metadata": {
        "id": "cXq4_uPeSBDr"
      }
    },
    {
      "cell_type": "code",
      "source": [
        "stats = ox.basic_stats(cw_streets)\n",
        "pd.Series(stats)"
      ],
      "metadata": {
        "id": "H99XziUPF7z8"
      },
      "execution_count": null,
      "outputs": []
    },
    {
      "cell_type": "markdown",
      "source": [
        "Then, we can visualize the street network and color the nodes (i.e. intersections) based on the number of connected street segments."
      ],
      "metadata": {
        "id": "-8idKcVZS1qm"
      }
    },
    {
      "cell_type": "code",
      "source": [
        "nc_street_count = ox.plot.get_node_colors_by_attr(cw_streets, \"street_count\", cmap=\"YlGnBu\")\n",
        "\n",
        "fig, ax = ox.plot_graph(\n",
        "    cw_streets,\n",
        "    node_color=nc_street_count,\n",
        "    node_size=5,\n",
        "    node_zorder=2,\n",
        "    edge_linewidth=0.2,\n",
        "    edge_color=\"w\"\n",
        ")"
      ],
      "metadata": {
        "id": "XiLaz8dxGLLf"
      },
      "execution_count": null,
      "outputs": []
    },
    {
      "cell_type": "markdown",
      "source": [
        "## 3. Spatial Data Visualization using Kepler.gl\n",
        "\n",
        "In this task, we will plot the buildings in CW using Kepler.gl, and explore its various functions.\n",
        "\n",
        "Note that, in Google Colab, support for third party widgets (such as Kepler.gl) needs to be enabled separately."
      ],
      "metadata": {
        "id": "7yx1HTRUTJLH"
      }
    },
    {
      "cell_type": "code",
      "source": [
        "from google.colab import output\n",
        "output.enable_custom_widget_manager()"
      ],
      "metadata": {
        "id": "4TrHdYHSLQjM"
      },
      "execution_count": null,
      "outputs": []
    },
    {
      "cell_type": "markdown",
      "source": [
        "### 3.1 Basic plot"
      ],
      "metadata": {
        "id": "gyJodf9DVHUL"
      }
    },
    {
      "cell_type": "code",
      "source": [
        "cw_map = keplergl.KeplerGl(height=600)\n",
        "cw_map.add_data(data=buildings_cw_with_height.copy(), name=\"Buildings in CW\")\n",
        "cw_map"
      ],
      "metadata": {
        "id": "sA8U606cT8Ve"
      },
      "execution_count": null,
      "outputs": []
    },
    {
      "cell_type": "markdown",
      "source": [
        "### 3.2 Explore more functionalities in Kepler.gl\n",
        "\n",
        "Dr Jiali Zhou will introduce more functionalities in Kepler.gl without programming."
      ],
      "metadata": {
        "id": "S0GdK6fTWbsn"
      }
    }
  ]
}